{
 "cells": [
  {
   "cell_type": "code",
   "execution_count": null,
   "id": "01c5dacc",
   "metadata": {},
   "outputs": [],
   "source": [
    "# ! gcloud auth application-default login"
   ]
  },
  {
   "cell_type": "code",
   "execution_count": null,
   "id": "ff477b81",
   "metadata": {},
   "outputs": [],
   "source": [
    "# ! gcloud config set project ivanmkc-test\n",
    "# ! gcloud auth application-default set-quota-project ivanmkc-test"
   ]
  },
  {
   "cell_type": "code",
   "execution_count": null,
   "id": "b4c5b9f1",
   "metadata": {},
   "outputs": [],
   "source": [
    "# ! gcloud config list\n",
    "# ! pip install google-cloud-aiplatform tenacity --upgrade"
   ]
  },
  {
   "cell_type": "code",
   "execution_count": null,
   "id": "652237f7-e5ac-4815-8270-c4571fb818af",
   "metadata": {
    "tags": []
   },
   "outputs": [],
   "source": [
    "import abc\n",
    "import dataclasses"
   ]
  },
  {
   "cell_type": "code",
   "execution_count": null,
   "id": "9fb5cc11-3180-4a72-a5cf-a797a8ac356f",
   "metadata": {
    "tags": []
   },
   "outputs": [],
   "source": [
    "import pandas as pd\n",
    "\n",
    "@dataclasses.dataclass\n",
    "class TranslationSource(abc.ABC):\n",
    "    def get_phrases(self) -> list[str]:\n",
    "        pass\n",
    "    \n",
    "class CantoneseTranslationSource(TranslationSource):\n",
    "    def get_phrases(self) -> list[str]:\n",
    "        return [\"ABC\", \"DEF\"]\n",
    "\n",
    "class PandasTranslationSource(TranslationSource):\n",
    "    # A source that loads in a pandas DataFrame\n",
    "    def __init__(self, df: pd.DataFrame, series_name: str):\n",
    "        self.df = df\n",
    "        self.series_name = series_name\n",
    "\n",
    "    def get_phrases(self) -> list[str]:\n",
    "        return self.df[self.series_name].str.strip().to_list()\n",
    "    \n",
    "class CSVTranslationSource(PandasTranslationSource):\n",
    "    # A source that loads in a CSV file\n",
    "    def __init__(self, csv_file: str, column_name: str):\n",
    "        df = pd.read_csv(csv_file)\n",
    "        super().__init__(df, column_name)"
   ]
  },
  {
   "cell_type": "code",
   "execution_count": null,
   "id": "bf6265eb",
   "metadata": {},
   "outputs": [],
   "source": [
    "# import pandas as pd\n",
    "\n",
    "# filepath = \"data/cantonese_dish/cantonese-dish-dataset sheet 3 (eng to canto).csv\"\n",
    "# df = pd.read_csv(filepath)\n",
    "\n",
    "# df.head()['Menu English Translation'].str.strip()"
   ]
  },
  {
   "cell_type": "code",
   "execution_count": null,
   "id": "ec7608f1",
   "metadata": {},
   "outputs": [],
   "source": [
    "filepath = \"data/cantonese_dish/cantonese-dish-dataset sheet 3 (eng to canto).csv\"\n",
    "olivia_canto_dish_dataset_english = CSVTranslationSource(filepath, column_name='Menu English Translation')\n",
    "# olivia_canto_dish_dataset_english.get_phrases()"
   ]
  },
  {
   "cell_type": "code",
   "execution_count": null,
   "id": "90a50bc7-a023-4a7e-a1b2-ab33cfa52352",
   "metadata": {
    "tags": []
   },
   "outputs": [],
   "source": [
    "import numpy as np\n",
    "\n",
    "class Evaluator(abc.ABC):\n",
    "    def evaluate(translations: list[str], phrases: list[str]) -> float:\n",
    "        pass\n",
    "    \n",
    "class NaiveEvaluator(abc.ABC):\n",
    "    \"Ratio of exact matches\"\n",
    "    def evaluate(translations: list[str], phrases: list[str]) -> float:\n",
    "        correct_matches = np.array(translations) == np.array(phrases)\n",
    "        \n",
    "        return np.sum(correct_matches)/len(correct_matches)"
   ]
  },
  {
   "cell_type": "code",
   "execution_count": null,
   "id": "a68d82e8",
   "metadata": {},
   "outputs": [],
   "source": [
    "from google.cloud import aiplatform\n",
    "\n",
    "aiplatform.init(project=\"ivanmkc-test\", location=\"us-central1\")\n",
    "for endpoint in aiplatform.Endpoint.list(location=\"us-central1\"):\n",
    "    print(endpoint)"
   ]
  },
  {
   "cell_type": "code",
   "execution_count": null,
   "id": "5895404b-51d5-411d-8e94-b022a6e22fae",
   "metadata": {
    "tags": []
   },
   "outputs": [],
   "source": [
    "import lib\n",
    "import importlib\n",
    "importlib.reload(lib)\n",
    "from lib.models.model import Model\n",
    "from lib.models.vertex_ai_endpoint_model import VertexAIEndpointModel\n",
    "from lib.models.vertex_ai_generative_model import VertexAIGenerativeModel\n",
    "from lib.models.google_translate_model import GoogleTranslateModel\n",
    "\n",
    "\n",
    "additional_context = \"This phrase comes from a Cantonese restaurant menu\"\n",
    "\n",
    "# Initialize models\n",
    "models: dict[str, Model] = {\n",
    "    # \"gemma_v1_7b_it\": VertexAIEndpointModel(endpoint='5868133139859111936', location='us-west1', target_language='Cantonese'),\n",
    "    # \"gemma_v2_27b_it\": VertexAIEndpointModel(endpoint='7147260987148599296', location='us-west1', target_language='Cantonese'),\n",
    "    # \"llama_3_8b\": VertexAIEndpointModel(endpoint='8833577572622139392', location='us-west1', source_language=\"English\", target_language='Cantonese', additional_context=additional_context),\n",
    "    \"google_translate\": GoogleTranslateModel(target_language=\"zh-hk\"),\n",
    "    \"gemma_3_12b_it\": VertexAIEndpointModel(endpoint='6619382156118458368', location='us-central1', source_language=\"English\", target_language='Cantonese', additional_context=additional_context),\n",
    "    \"gemini-2.0-flash\": VertexAIGenerativeModel(model_name=\"gemini-2.0-flash\", source_language=\"English\", target_language=\"Cantonese\", additional_context=additional_context)\n",
    "}"
   ]
  },
  {
   "cell_type": "code",
   "execution_count": null,
   "id": "faa0f481-b548-49d1-8736-4bcc08a4a22a",
   "metadata": {
    "tags": []
   },
   "outputs": [],
   "source": [
    "source = olivia_canto_dish_dataset_english\n",
    "phrases = source.get_phrases()\n",
    "\n",
    "print(f\"Number of phrases: {len(phrases)}\")\n",
    "\n",
    "translations = {}\n",
    "results = {}\n",
    "\n",
    "# For each word, send to the model\n",
    "for model_name, model in models.items():\n",
    "    translations[model_name] = model.translate_batch(phrases)\n",
    "    # results[model_name] = evaluation.evaluate(translations=translations, phrases=phrases)"
   ]
  },
  {
   "cell_type": "code",
   "execution_count": null,
   "id": "cf5928ff",
   "metadata": {},
   "outputs": [],
   "source": [
    "# translations"
   ]
  },
  {
   "cell_type": "code",
   "execution_count": 38,
   "id": "ded96f3b",
   "metadata": {},
   "outputs": [
    {
     "name": "stdout",
     "output_type": "stream",
     "text": [
      "gemini-2.0-flash: Sea Cucumber & Assorted Mushroom w/ XO Sauce -> 海參雜菌XO醬\n",
      "gemini-2.0-flash: Fried Beef Flank with Onion, Shallot, Scallion with XO Sauce in Clay Pot -> XO醬蔥爆沙嗲牛腩煲\n",
      "gemini-2.0-flash: XO Sauce Chicken Chow Mein -> XO醬雞肉炒麵\n",
      "gemini-2.0-flash: Scallops & Prawns w/ XO Sauce -> 帶子XO醬炒蝦仁\n",
      "gemini-2.0-flash: Seafood with E-Fu Noodle in XO Sauce -> XO醬海鮮伊麵\n",
      "gemini-2.0-flash: Sauteed Pork Cheek Meat in XO Sauce -> XO醬炒豬面珠墩\n",
      "gemini-2.0-flash: Stir-fried Rice Roll w/ XO Sauce -> XO醬炒腸粉\n",
      "gemini-2.0-flash: Pan-Fried Daikon Cake w/ XO Sauce -> XO醬煎蘿蔔糕\n",
      "gemini-2.0-flash: Pan Fried Shredded Beef with XO Sauce -> XO醬乾炒牛河\n",
      "gemini-2.0-flash: Stir-fried Sea Cucumber Meat with Scallops, Broccoli and XO Sauce -> XO醬西蘭花帶子海參花\n",
      "google_translate: Sea Cucumber & Assorted Mushroom w/ XO Sauce -> 海參什錦菇XO醬\n",
      "google_translate: Fried Beef Flank with Onion, Shallot, Scallion with XO Sauce in Clay Pot -> 洋蔥蔥蔥XO醬炒牛腩煲\n",
      "google_translate: XO Sauce Chicken Chow Mein -> XO醬雞炒麵\n",
      "google_translate: Scallops & Prawns w/ XO Sauce -> XO 醬乾貝蝦\n",
      "google_translate: Seafood with E-Fu Noodle in XO Sauce -> XO醬伊麵海鮮\n",
      "google_translate: Sauteed Pork Cheek Meat in XO Sauce -> XO醬炒豬頰肉\n",
      "google_translate: Stir-fried Rice Roll w/ XO Sauce -> XO醬炒腸粉\n",
      "google_translate: Pan-Fried Daikon Cake w/ XO Sauce -> XO醬煎蘿蔔糕\n",
      "google_translate: Pan Fried Shredded Beef with XO Sauce -> XO醬炒牛肉絲\n",
      "google_translate: Stir-fried Sea Cucumber Meat with Scallops, Broccoli and XO Sauce -> 乾貝西蘭花XO醬炒海參肉\n",
      "gemma_3_12b_it: Sea Cucumber & Assorted Mushroom w/ XO Sauce -> 蟲草花同雜菇 XO 汁\n",
      "gemma_3_12b_it: Fried Beef Flank with Onion, Shallot, Scallion with XO Sauce in Clay Pot -> 炸洋蔥𠝹蔥同XO醬煲牛仔骨\n",
      "gemma_3_12b_it: XO Sauce Chicken Chow Mein -> 魚子醬雞炒麵\n",
      "gemma_3_12b_it: Scallops & Prawns w/ XO Sauce -> 扇家樂同蝦仁撈XO醬\n",
      "gemma_3_12b_it: Seafood with E-Fu Noodle in XO Sauce -> 豉油皇炒伊麵配海鮮\n",
      "gemma_3_12b_it: Sauteed Pork Cheek Meat in XO Sauce -> 豉油 XO 汁炒豬面頰肉\n",
      "gemma_3_12b_it: Stir-fried Rice Roll w/ XO Sauce -> 炒米線撈 XO 醬\n",
      "gemma_3_12b_it: Pan-Fried Daikon Cake w/ XO Sauce -> 煎大頭菜糕配 XO 醬\n",
      "gemma_3_12b_it: Pan Fried Shredded Beef with XO Sauce -> 炒碎牛肉 XO 醬\n",
      "gemma_3_12b_it: Stir-fried Sea Cucumber Meat with Scallops, Broccoli and XO Sauce -> 炒海參肉、帶子、青花菜同 XO 醬\n"
     ]
    }
   ],
   "source": [
    "for model_name, translations_for_model in list(translations.items()):\n",
    "    for word, translation in list(zip(phrases, translations_for_model))[:10]:\n",
    "        print(f\"{model_name}: {word} -> {translation}\")"
   ]
  },
  {
   "cell_type": "code",
   "execution_count": 105,
   "id": "e0a99ba2",
   "metadata": {},
   "outputs": [],
   "source": [
    "from lib.models import helpers"
   ]
  },
  {
   "cell_type": "code",
   "execution_count": 106,
   "id": "67b5d291",
   "metadata": {},
   "outputs": [],
   "source": [
    "df = pd.DataFrame(data=[tuple([phrase] + [translations[model_name][i] for model_name in translations]) for i, phrase in enumerate(phrases)], columns=['source'] + list(translations.keys()))\n",
    "\n",
    "# Apply text extraction\n",
    "df_cleaned = df.copy()\n",
    "for col in df.columns:\n",
    "    if col != 'source':\n",
    "        df_cleaned[col] = df_cleaned[col].apply(helpers.extract_translation)"
   ]
  },
  {
   "cell_type": "code",
   "execution_count": 107,
   "id": "e44ba0ea",
   "metadata": {},
   "outputs": [
    {
     "data": {
      "text/html": [
       "<div>\n",
       "<style scoped>\n",
       "    .dataframe tbody tr th:only-of-type {\n",
       "        vertical-align: middle;\n",
       "    }\n",
       "\n",
       "    .dataframe tbody tr th {\n",
       "        vertical-align: top;\n",
       "    }\n",
       "\n",
       "    .dataframe thead th {\n",
       "        text-align: right;\n",
       "    }\n",
       "</style>\n",
       "<table border=\"1\" class=\"dataframe\">\n",
       "  <thead>\n",
       "    <tr style=\"text-align: right;\">\n",
       "      <th></th>\n",
       "      <th>source</th>\n",
       "      <th>gemini-2.0-flash</th>\n",
       "      <th>google_translate</th>\n",
       "      <th>gemma_3_12b_it</th>\n",
       "    </tr>\n",
       "  </thead>\n",
       "  <tbody>\n",
       "    <tr>\n",
       "      <th>539</th>\n",
       "      <td>Pork Spare Rib Soup with Dried Octopus, Dried ...</td>\n",
       "      <td>None</td>\n",
       "      <td>章魚蠔豉蓮藕排骨湯</td>\n",
       "      <td>豬骨湯配乾魷魚、乾蠔同蓮藕</td>\n",
       "    </tr>\n",
       "  </tbody>\n",
       "</table>\n",
       "</div>"
      ],
      "text/plain": [
       "                                                source gemini-2.0-flash  \\\n",
       "539  Pork Spare Rib Soup with Dried Octopus, Dried ...             None   \n",
       "\n",
       "    google_translate gemma_3_12b_it  \n",
       "539        章魚蠔豉蓮藕排骨湯  豬骨湯配乾魷魚、乾蠔同蓮藕  "
      ]
     },
     "execution_count": 107,
     "metadata": {},
     "output_type": "execute_result"
    }
   ],
   "source": [
    "# Show any rows with None\n",
    "df_cleaned[df_cleaned.isnull().any(axis=1)]"
   ]
  },
  {
   "cell_type": "code",
   "execution_count": 108,
   "id": "d678fa46",
   "metadata": {},
   "outputs": [
    {
     "data": {
      "text/html": [
       "<div>\n",
       "<style scoped>\n",
       "    .dataframe tbody tr th:only-of-type {\n",
       "        vertical-align: middle;\n",
       "    }\n",
       "\n",
       "    .dataframe tbody tr th {\n",
       "        vertical-align: top;\n",
       "    }\n",
       "\n",
       "    .dataframe thead th {\n",
       "        text-align: right;\n",
       "    }\n",
       "</style>\n",
       "<table border=\"1\" class=\"dataframe\">\n",
       "  <thead>\n",
       "    <tr style=\"text-align: right;\">\n",
       "      <th></th>\n",
       "      <th>source</th>\n",
       "      <th>gemini-2.0-flash</th>\n",
       "      <th>google_translate</th>\n",
       "      <th>gemma_3_12b_it</th>\n",
       "    </tr>\n",
       "  </thead>\n",
       "  <tbody>\n",
       "  </tbody>\n",
       "</table>\n",
       "</div>"
      ],
      "text/plain": [
       "Empty DataFrame\n",
       "Columns: [source, gemini-2.0-flash, google_translate, gemma_3_12b_it]\n",
       "Index: []"
      ]
     },
     "execution_count": 108,
     "metadata": {},
     "output_type": "execute_result"
    }
   ],
   "source": [
    "# Show any rows with 'translation'\n",
    "df_cleaned[df_cleaned.apply(lambda row: row.astype(str).str.contains('translation', case=False).any(), axis=1)]"
   ]
  },
  {
   "cell_type": "code",
   "execution_count": 109,
   "id": "7c99e519",
   "metadata": {},
   "outputs": [
    {
     "data": {
      "text/html": [
       "<div>\n",
       "<style scoped>\n",
       "    .dataframe tbody tr th:only-of-type {\n",
       "        vertical-align: middle;\n",
       "    }\n",
       "\n",
       "    .dataframe tbody tr th {\n",
       "        vertical-align: top;\n",
       "    }\n",
       "\n",
       "    .dataframe thead th {\n",
       "        text-align: right;\n",
       "    }\n",
       "</style>\n",
       "<table border=\"1\" class=\"dataframe\">\n",
       "  <thead>\n",
       "    <tr style=\"text-align: right;\">\n",
       "      <th></th>\n",
       "      <th>source</th>\n",
       "      <th>gemini-2.0-flash</th>\n",
       "      <th>google_translate</th>\n",
       "      <th>gemma_3_12b_it</th>\n",
       "    </tr>\n",
       "  </thead>\n",
       "  <tbody>\n",
       "    <tr>\n",
       "      <th>0</th>\n",
       "      <td>Sea Cucumber &amp; Assorted Mushroom w/ XO Sauce</td>\n",
       "      <td>海參雜菌XO醬</td>\n",
       "      <td>海參什錦菇XO醬</td>\n",
       "      <td>蟲草花同雜菇 XO 汁</td>\n",
       "    </tr>\n",
       "    <tr>\n",
       "      <th>1</th>\n",
       "      <td>Fried Beef Flank with Onion, Shallot, Scallion...</td>\n",
       "      <td>XO醬蔥爆沙嗲牛腩煲</td>\n",
       "      <td>洋蔥蔥蔥XO醬炒牛腩煲</td>\n",
       "      <td>炸洋蔥𠝹蔥同XO醬煲牛仔骨</td>\n",
       "    </tr>\n",
       "    <tr>\n",
       "      <th>2</th>\n",
       "      <td>XO Sauce Chicken Chow Mein</td>\n",
       "      <td>XO醬雞肉炒麵</td>\n",
       "      <td>XO醬雞炒麵</td>\n",
       "      <td>魚子醬雞炒麵</td>\n",
       "    </tr>\n",
       "    <tr>\n",
       "      <th>3</th>\n",
       "      <td>Scallops &amp; Prawns w/ XO Sauce</td>\n",
       "      <td>帶子XO醬炒蝦仁</td>\n",
       "      <td>XO 醬乾貝蝦</td>\n",
       "      <td>扇家樂同蝦仁撈XO醬</td>\n",
       "    </tr>\n",
       "    <tr>\n",
       "      <th>4</th>\n",
       "      <td>Seafood with E-Fu Noodle in XO Sauce</td>\n",
       "      <td>XO醬海鮮伊麵</td>\n",
       "      <td>XO醬伊麵海鮮</td>\n",
       "      <td>豉油皇炒伊麵配海鮮</td>\n",
       "    </tr>\n",
       "    <tr>\n",
       "      <th>...</th>\n",
       "      <td>...</td>\n",
       "      <td>...</td>\n",
       "      <td>...</td>\n",
       "      <td>...</td>\n",
       "    </tr>\n",
       "    <tr>\n",
       "      <th>996</th>\n",
       "      <td>Coke with Ice-cream</td>\n",
       "      <td>雪糕可樂</td>\n",
       "      <td>可樂加冰淇淋</td>\n",
       "      <td>凍可樂</td>\n",
       "    </tr>\n",
       "    <tr>\n",
       "      <th>997</th>\n",
       "      <td>Sponge Cake w/ Brown Sugar</td>\n",
       "      <td>砵仔糕</td>\n",
       "      <td>紅糖海綿蛋糕</td>\n",
       "      <td>粟糖海綿蛋糕</td>\n",
       "    </tr>\n",
       "    <tr>\n",
       "      <th>998</th>\n",
       "      <td>Fresh Okra Poached w/ Garlic &amp; Scallion</td>\n",
       "      <td>蒜蓉蔥油浸秋葵</td>\n",
       "      <td>新鮮秋葵配大蒜和蔥一起煮</td>\n",
       "      <td>蒜蓉花浸 okra</td>\n",
       "    </tr>\n",
       "    <tr>\n",
       "      <th>999</th>\n",
       "      <td>Vegetarian Trio</td>\n",
       "      <td>齋三寶</td>\n",
       "      <td>素食三重奏</td>\n",
       "      <td>齋精菜三拼</td>\n",
       "    </tr>\n",
       "    <tr>\n",
       "      <th>1000</th>\n",
       "      <td>Lobster Bisque</td>\n",
       "      <td>龍蝦湯</td>\n",
       "      <td>龍蝦湯</td>\n",
       "      <td>龍蝦忌廉湯</td>\n",
       "    </tr>\n",
       "  </tbody>\n",
       "</table>\n",
       "<p>1001 rows × 4 columns</p>\n",
       "</div>"
      ],
      "text/plain": [
       "                                                 source gemini-2.0-flash  \\\n",
       "0          Sea Cucumber & Assorted Mushroom w/ XO Sauce          海參雜菌XO醬   \n",
       "1     Fried Beef Flank with Onion, Shallot, Scallion...       XO醬蔥爆沙嗲牛腩煲   \n",
       "2                            XO Sauce Chicken Chow Mein          XO醬雞肉炒麵   \n",
       "3                         Scallops & Prawns w/ XO Sauce         帶子XO醬炒蝦仁   \n",
       "4                  Seafood with E-Fu Noodle in XO Sauce          XO醬海鮮伊麵   \n",
       "...                                                 ...              ...   \n",
       "996                                 Coke with Ice-cream             雪糕可樂   \n",
       "997                          Sponge Cake w/ Brown Sugar              砵仔糕   \n",
       "998             Fresh Okra Poached w/ Garlic & Scallion          蒜蓉蔥油浸秋葵   \n",
       "999                                     Vegetarian Trio              齋三寶   \n",
       "1000                                     Lobster Bisque              龍蝦湯   \n",
       "\n",
       "     google_translate  gemma_3_12b_it  \n",
       "0            海參什錦菇XO醬     蟲草花同雜菇 XO 汁  \n",
       "1         洋蔥蔥蔥XO醬炒牛腩煲  炸洋蔥𠝹蔥同XO醬煲牛仔骨  \n",
       "2              XO醬雞炒麵          魚子醬雞炒麵  \n",
       "3             XO 醬乾貝蝦      扇家樂同蝦仁撈XO醬  \n",
       "4             XO醬伊麵海鮮       豉油皇炒伊麵配海鮮  \n",
       "...               ...             ...  \n",
       "996            可樂加冰淇淋             凍可樂  \n",
       "997            紅糖海綿蛋糕          粟糖海綿蛋糕  \n",
       "998      新鮮秋葵配大蒜和蔥一起煮      蒜蓉花浸 okra  \n",
       "999             素食三重奏           齋精菜三拼  \n",
       "1000              龍蝦湯           龍蝦忌廉湯  \n",
       "\n",
       "[1001 rows x 4 columns]"
      ]
     },
     "execution_count": 109,
     "metadata": {},
     "output_type": "execute_result"
    }
   ],
   "source": [
    "df_cleaned"
   ]
  },
  {
   "cell_type": "code",
   "execution_count": 110,
   "id": "5793f389",
   "metadata": {},
   "outputs": [],
   "source": [
    "df_cleaned.to_csv(\"translations.csv\")"
   ]
  },
  {
   "cell_type": "code",
   "execution_count": 111,
   "id": "2b2c6701",
   "metadata": {},
   "outputs": [
    {
     "name": "stdout",
     "output_type": "stream",
     "text": [
      "Undeploying Endpoint model: projects/169190568756/locations/us-central1/endpoints/2387687356250456064\n",
      "Undeploy Endpoint model backing LRO: projects/169190568756/locations/us-central1/endpoints/2387687356250456064/operations/1901194245969018880\n",
      "Endpoint model undeployed. Resource name: projects/169190568756/locations/us-central1/endpoints/2387687356250456064\n",
      "Undeploying Endpoint model: projects/169190568756/locations/us-central1/endpoints/6619382156118458368\n",
      "Undeploy Endpoint model backing LRO: projects/169190568756/locations/us-central1/endpoints/6619382156118458368/operations/1498122079319359488\n",
      "Endpoint model undeployed. Resource name: projects/169190568756/locations/us-central1/endpoints/6619382156118458368\n",
      "Deleting Model : projects/169190568756/locations/us-central1/models/llama3-8b-chat-1741980437648\n",
      "Model deleted. . Resource name: projects/169190568756/locations/us-central1/models/llama3-8b-chat-1741980437648\n",
      "Deleting Model resource: projects/169190568756/locations/us-central1/models/llama3-8b-chat-1741980437648\n",
      "Delete Model backing LRO: projects/169190568756/locations/us-central1/models/llama3-8b-chat-1741980437648/operations/3964968775211548672\n",
      "Model resource projects/169190568756/locations/us-central1/models/llama3-8b-chat-1741980437648 deleted.\n",
      "Deleting Model : projects/169190568756/locations/us-central1/models/gemma-3-12b-it-1741975113618\n",
      "Model deleted. . Resource name: projects/169190568756/locations/us-central1/models/gemma-3-12b-it-1741975113618\n",
      "Deleting Model resource: projects/169190568756/locations/us-central1/models/gemma-3-12b-it-1741975113618\n",
      "Delete Model backing LRO: projects/169190568756/locations/us-central1/models/gemma-3-12b-it-1741975113618/operations/9192522042681851904\n",
      "Model resource projects/169190568756/locations/us-central1/models/gemma-3-12b-it-1741975113618 deleted.\n",
      "Undeploying Endpoint model: projects/169190568756/locations/us-west1/endpoints/8833577572622139392\n",
      "Undeploy Endpoint model backing LRO: projects/169190568756/locations/us-west1/endpoints/8833577572622139392/operations/4178721978909196288\n",
      "Endpoint model undeployed. Resource name: projects/169190568756/locations/us-west1/endpoints/8833577572622139392\n",
      "Deleting Model : projects/169190568756/locations/us-west1/models/llama3-8b-chat-1741980832516\n",
      "Model deleted. . Resource name: projects/169190568756/locations/us-west1/models/llama3-8b-chat-1741980832516\n",
      "Deleting Model resource: projects/169190568756/locations/us-west1/models/llama3-8b-chat-1741980832516\n",
      "Delete Model backing LRO: projects/169190568756/locations/us-west1/models/llama3-8b-chat-1741980832516/operations/8675003256885215232\n",
      "Model resource projects/169190568756/locations/us-west1/models/llama3-8b-chat-1741980832516 deleted.\n"
     ]
    }
   ],
   "source": [
    "# Undeploy and delete models when done\n",
    "\n",
    "locations = [\"us-central1\", \"us-west1\"]\n",
    "\n",
    "UNDEPLOY = True\n",
    "\n",
    "if UNDEPLOY:\n",
    "    for location in locations:\n",
    "        for endpoint in aiplatform.Endpoint.list(location=location):\n",
    "            endpoint.undeploy_all()    \n",
    "        for model in aiplatform.Model.list(location=location):\n",
    "            model.delete()\n"
   ]
  },
  {
   "cell_type": "code",
   "execution_count": null,
   "id": "11b30c0a",
   "metadata": {},
   "outputs": [],
   "source": []
  }
 ],
 "metadata": {
  "environment": {
   "kernel": "conda-base-py",
   "name": "workbench-notebooks.m128",
   "type": "gcloud",
   "uri": "us-docker.pkg.dev/deeplearning-platform-release/gcr.io/workbench-notebooks:m128"
  },
  "kernelspec": {
   "display_name": "env",
   "language": "python",
   "name": "python3"
  },
  "language_info": {
   "codemirror_mode": {
    "name": "ipython",
    "version": 3
   },
   "file_extension": ".py",
   "mimetype": "text/x-python",
   "name": "python",
   "nbconvert_exporter": "python",
   "pygments_lexer": "ipython3",
   "version": "3.11.9"
  }
 },
 "nbformat": 4,
 "nbformat_minor": 5
}
